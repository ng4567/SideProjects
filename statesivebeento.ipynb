{
 "cells": [
  {
   "attachments": {},
   "cell_type": "markdown",
   "metadata": {},
   "source": [
    "Import Data (State Data Taken from: https://www.redfin.com/news/data-center/)"
   ]
  },
  {
   "cell_type": "code",
   "execution_count": 8,
   "metadata": {},
   "outputs": [],
   "source": [
    "import pandas as pd \n",
    "\n",
    "df = pd.read_csv(\"/Users/nikhilgopal/IBM Trainings/SideProjects/data/state_market_tracker.tsv000.gz\", sep='\\t')\n",
    "df=df[['period_begin','state','state_code','property_type','median_sale_price']]\n",
    "df=df[(df['period_begin']=='2022-01-01') & (df['property_type']=='Single Family Residential')] \n",
    "df.rename({'median_sale_price':'Median Sales Price ($)'},axis=1, inplace=True)"
   ]
  }
 ],
 "metadata": {
  "kernelspec": {
   "display_name": "base",
   "language": "python",
   "name": "python3"
  },
  "language_info": {
   "codemirror_mode": {
    "name": "ipython",
    "version": 3
   },
   "file_extension": ".py",
   "mimetype": "text/x-python",
   "name": "python",
   "nbconvert_exporter": "python",
   "pygments_lexer": "ipython3",
   "version": "3.9.12"
  },
  "orig_nbformat": 4,
  "vscode": {
   "interpreter": {
    "hash": "7524cafb56e95032b696700f770096ac4f40a4dfdeebb4d85f90fe694c0b1b7e"
   }
  }
 },
 "nbformat": 4,
 "nbformat_minor": 2
}
