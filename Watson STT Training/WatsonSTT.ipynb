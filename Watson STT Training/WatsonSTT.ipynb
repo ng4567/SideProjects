{
 "cells": [
  {
   "cell_type": "markdown",
   "id": "bca25082",
   "metadata": {},
   "source": [
    "## Install and Import Dependencies"
   ]
  },
  {
   "attachments": {},
   "cell_type": "markdown",
   "metadata": {
    "collapsed": false
   },
   "source": [
    "Instructions YT Tutorial\n",
    "https://www.youtube.com/watch?v=A9_0OgW1LZU\n",
    "\n",
    "use pip install if you don't have watson libraries installed"
   ]
  },
  {
   "cell_type": "code",
   "execution_count": 9,
   "metadata": {
    "collapsed": false
   },
   "outputs": [],
   "source": [
    "import os\n",
    "#!pip install ibm_watson\n",
    "from ibm_watson import SpeechToTextV1\n",
    "from ibm_cloud_sdk_core.authenticators import IAMAuthenticator\n",
    "import matplotlib.pyplot as plt\n",
    "import json\n",
    "from ibm_watson import SpeechToTextV1\n",
    "from ibm_cloud_sdk_core.authenticators import IAMAuthenticator\n",
    "from ibm_watson import SpeechToTextV1\n",
    "from ibm_watson.speech_to_text_v1 import CustomWord\n",
    "from ibm_cloud_sdk_core.authenticators import IAMAuthenticator\n",
    "from ibm_watson.speech_to_text_v1 import CustomWord\n",
    "from ibm_watson import LanguageTranslatorV3\n",
    "from ibm_cloud_sdk_core.authenticators import IAMAuthenticator\n",
    "\n",
    "from dotenv import dotenv_values\n",
    "\n",
    "#link to IBM STT documentation:\n",
    "#https://cloud.ibm.com/apidocs/speech-to-text?code=python#createlanguagemodel"
   ]
  },
  {
   "cell_type": "markdown",
   "id": "24656cd5",
   "metadata": {},
   "source": [
    "## Setup STT Service"
   ]
  },
  {
   "attachments": {},
   "cell_type": "markdown",
   "id": "919dc592",
   "metadata": {},
   "source": [
    "Will be using the python-dotenv library to store API keys so that they are not publicly available on GitHub. I have confiured a .env file as described on the following link: https://github.com/theskumar/python-dotenv"
   ]
  },
  {
   "cell_type": "code",
   "execution_count": 29,
   "id": "8f8d000e",
   "metadata": {},
   "outputs": [],
   "source": [
    "config = dotenv_values(\".env\")\n",
    "\n",
    "apikey = config[\"stt_apikey\"]\n",
    "url = config[\"stt_url\"]"
   ]
  },
  {
   "cell_type": "code",
   "execution_count": 18,
   "id": "31c2f208",
   "metadata": {},
   "outputs": [],
   "source": [
    "# Setup Service\n",
    "authenticator = IAMAuthenticator(apikey)\n",
    "stt = SpeechToTextV1(authenticator=authenticator)\n",
    "stt.set_service_url(url)"
   ]
  },
  {
   "cell_type": "markdown",
   "id": "acf75636",
   "metadata": {},
   "source": [
    "## Open Audio Source and Convert "
   ]
  },
  {
   "cell_type": "code",
   "execution_count": 21,
   "id": "0fb6b38a",
   "metadata": {},
   "outputs": [],
   "source": [
    "# Perform conversion\n",
    "\n",
    "#Audio file taken from following link:\n",
    "#https://www.youtube.com/watch?v=pOZkbANHlTI\n",
    "\n",
    "model_name = 'en-US_NarrowbandModel'\n",
    "\n",
    "audio_file_path = \"/Users/nikhilgopal/IBM Trainings/Watson STT Training/news_file.mp3\"\n",
    "\n",
    "with open(audio_file_path, 'rb') as f:\n",
    "    res = stt.recognize(audio=f, content_type='audio/mp3', model=model_name).get_result()"
   ]
  },
  {
   "cell_type": "code",
   "execution_count": 7,
   "id": "b4e717b0",
   "metadata": {},
   "outputs": [],
   "source": [
    "#res"
   ]
  },
  {
   "cell_type": "code",
   "execution_count": 22,
   "id": "4c7c84c9",
   "metadata": {},
   "outputs": [
    {
     "data": {
      "text/plain": [
       "\"the world come doing a record number of viewers and try and for Argentina's Lin L. Massey here's a look by the numbers fifteen point four million U. S. households watched yesterday's World Cup final and all time U. S. audience record and again certainly delivered on the drama for just the third time in history the World Cup title was decided by a penalty shoot out thirty six years old that's a long Argentina had waited for a World Cup win thirty five year old Lino Massey had not even been born yet the last time is country once he scored two goals and the first of five should all penalties to win his team along company championship meeting crowns on a legendary career with seven hundred ninety three eagles forty two club an international titles and a record seven alone is doing %HESITATION mole ready to his name the World Cup win makes messy the most decorated soccer player in history along with Brazilian player Danielle she's behind only Cristiano Ronaldo in all time goals but he is three hundred fifty assist to his name that's one hundred sixteen more than one although and that's despite playing one hundred forty three fewer games \""
      ]
     },
     "execution_count": 22,
     "metadata": {},
     "output_type": "execute_result"
    }
   ],
   "source": [
    "text = res['results'][0]['alternatives'][0]['transcript']\n",
    "text"
   ]
  },
  {
   "cell_type": "code",
   "execution_count": 23,
   "id": "56849053",
   "metadata": {},
   "outputs": [],
   "source": [
    "confidence_levels = {}\n",
    "confidence = res['results'][0]['alternatives'][0]['confidence']\n",
    "confidence_levels[model_name] = confidence"
   ]
  },
  {
   "cell_type": "markdown",
   "metadata": {
    "collapsed": false
   },
   "source": [
    "## Save Output as Text File"
   ]
  },
  {
   "cell_type": "code",
   "execution_count": 24,
   "id": "025fe446",
   "metadata": {},
   "outputs": [],
   "source": [
    "with open('output.txt', 'w') as out:\n",
    "    out.writelines(text)\n",
    "f.close()"
   ]
  },
  {
   "cell_type": "markdown",
   "id": "d0f4b608",
   "metadata": {},
   "source": [
    "## Change Language Models"
   ]
  },
  {
   "cell_type": "markdown",
   "metadata": {
    "collapsed": false
   },
   "source": [
    "Link to model catalog:\n",
    "\n",
    "https://cloud.ibm.com/apidocs/speech-to-text?code=python#listmodels\n",
    "https://ibmdocs-test.mybluemix.net/docs/en/watson-libraries?topic=home-models-catalog"
   ]
  },
  {
   "cell_type": "code",
   "execution_count": 25,
   "id": "ed7b363f",
   "metadata": {},
   "outputs": [],
   "source": [
    "# Perform conversion\n",
    "model_name2 = 'en-US_Multimedia'\n",
    "\n",
    "with open(audio_file_path, 'rb') as f:\n",
    "    res2 = stt.recognize(audio=f, content_type='audio/mp3', model=model_name2).get_result()"
   ]
  },
  {
   "cell_type": "code",
   "execution_count": 26,
   "id": "6e98d016",
   "metadata": {},
   "outputs": [
    {
     "data": {
      "text/plain": [
       "\"the world come during a record number of viewers and triumph for argentina's leonel messy here's a look by the numbers fifteen point four million u s households watch yesterday's world cup final and all time u s audience record and the game certainly delivered on the drama for just the third time in history the world cup title was decided by a penalty shoot out thirty six years folks that's how long argentina had waited for a world cup when thirty five year old leonel messy had not even been born yet the last time his country won he scored two goals and the first of five shoot out penalties to win his team the long covered championship a fitting crown on a legendary career with seven hundred ninety three goals forty two club and international titles and a record seven balance day auto already to his name the world cup win makes messy the most decorated soccer player in history along with brazilian player danny alves he's behind only christian renaulto in all time goals but he has three hundred fifty assists to his name that's one hundred sixteen more than renault and that's despite playing one hundred forty three fewer games seventy one goals in a single season make messy a world record holder that includes thirteen in world cup tournaments he's the only player in history to score in a world cup in his teens as twenties and also is thirties and now the countdown begins to twenty twenty six the united states mexico in canada will host the next world cup it will be the first time the event will be held across three countries well g fans robert roberts here thanks for checking out our youtube channel lots of great stuff here so go on click the subscribe button right over right over here to get more of awesome videos and contents from gma every day anytime we thank you for watching and we'll see you in the morning on g m a \""
      ]
     },
     "execution_count": 26,
     "metadata": {},
     "output_type": "execute_result"
    }
   ],
   "source": [
    "#res\n",
    "text2 = res2['results'][0]['alternatives'][0]['transcript']\n",
    "text2"
   ]
  },
  {
   "cell_type": "code",
   "execution_count": 27,
   "metadata": {
    "collapsed": false
   },
   "outputs": [],
   "source": [
    "confidence2 = res['results'][0]['alternatives'][0]['confidence']\n",
    "confidence2\n",
    "confidence_levels[model_name2] = confidence2"
   ]
  },
  {
   "cell_type": "markdown",
   "metadata": {
    "collapsed": false
   },
   "source": [
    "It appears that the multimedia model has a higher confidence than the standard narrowband model:"
   ]
  },
  {
   "cell_type": "code",
   "execution_count": 28,
   "metadata": {
    "collapsed": false
   },
   "outputs": [
    {
     "data": {
      "image/png": "[encoded data removed]",
      "text/plain": [
       "<Figure size 432x288 with 1 Axes>"
      ]
     },
     "metadata": {
      "needs_background": "light"
     },
     "output_type": "display_data"
    }
   ],
   "source": [
    "# function to add value labels\n",
    "def addlabels(x,y):\n",
    "    for i in range(len(x)):\n",
    "        plt.text(i,y[i],y[i])\n",
    "\n",
    "if __name__ == '__main__':\n",
    "    # creating data on which bar chart will be plot\n",
    "    x = list(confidence_levels.keys())\n",
    "    y = list(confidence_levels.values())\n",
    "\n",
    "    # making the bar chart on the data\n",
    "    plt.bar(x, y, width= 0.5, align=\"center\")\n",
    "\n",
    "    # calling the function to add value labels\n",
    "    addlabels(x, y)\n",
    "\n",
    "    # giving title to the plot\n",
    "    plt.title(\"Confidence Level by Model\")\n",
    "\n",
    "    # giving X and Y labels\n",
    "    plt.xlabel(\"Model\")\n",
    "    plt.ylabel(\"Confidence Level\")\n",
    "\n",
    "    # visualizing the plot\n",
    "    plt.show()"
   ]
  },
  {
   "cell_type": "markdown",
   "metadata": {
    "collapsed": false
   },
   "source": [
    "## Create A Custom Language Model"
   ]
  },
  {
   "cell_type": "markdown",
   "metadata": {
    "collapsed": false
   },
   "source": [
    "Import libraries:"
   ]
  },
  {
   "cell_type": "code",
   "execution_count": 30,
   "metadata": {
    "collapsed": false
   },
   "outputs": [],
   "source": [
    "authenticator = IAMAuthenticator(apikey)\n",
    "speech_to_text = SpeechToTextV1(\n",
    "    authenticator=authenticator\n",
    ")\n",
    "\n",
    "speech_to_text.set_service_url(url)"
   ]
  },
  {
   "cell_type": "markdown",
   "metadata": {
    "collapsed": false
   },
   "source": [
    "Create Model:"
   ]
  },
  {
   "cell_type": "code",
   "execution_count": 31,
   "metadata": {
    "collapsed": false
   },
   "outputs": [
    {
     "name": "stdout",
     "output_type": "stream",
     "text": [
      "{\n",
      "  \"customization_id\": \"2b2fe6ab-b9c3-4c78-b41f-11b7e104ce1c\"\n",
      "}\n"
     ]
    }
   ],
   "source": [
    "language_model = speech_to_text.create_language_model(\n",
    "    'add_words',\n",
    "    'en-US_BroadbandModel',\n",
    "    description='Trying out adding words'\n",
    ").get_result()\n",
    "\n",
    "print(json.dumps(language_model, indent=2))"
   ]
  },
  {
   "cell_type": "markdown",
   "metadata": {
    "collapsed": false
   },
   "source": [
    "Display all custom language models:"
   ]
  },
  {
   "cell_type": "code",
   "execution_count": 32,
   "metadata": {
    "collapsed": false
   },
   "outputs": [],
   "source": [
    "%%capture\n",
    "\n",
    "#using capture to prevent display of output as list is too long, will paste the first two in markdown box below for demonstration purposes\n",
    "\n",
    "language_models = speech_to_text.list_language_models().get_result()\n",
    "print(json.dumps(language_models, indent=2))"
   ]
  },
  {
   "cell_type": "markdown",
   "metadata": {
    "collapsed": false
   },
   "source": [
    "{\n",
    "  \"customizations\": [\n",
    "    {\n",
    "      \"owner\": \"bfa0c14c-97ab-489d-93f6-4d45b9396076\",\n",
    "      \"base_model_name\": \"en-US_BroadbandModel\",\n",
    "      \"customization_id\": \"edf3b09e-3ccf-45ba-8459-f9d3654b1ffe\",\n",
    "      \"dialect\": \"en-US\",\n",
    "      \"versions\": [\n",
    "        \"en-US_BroadbandModel.v2020-01-16\"\n",
    "      ],\n",
    "      \"created\": \"2023-01-10T02:49:20.563Z\",\n",
    "      \"name\": \"add_words\",\n",
    "      \"description\": \"Trying out adding words\",\n",
    "      \"progress\": 0,\n",
    "      \"language\": \"en-US\",\n",
    "      \"updated\": \"2023-01-10T02:49:20.563Z\",\n",
    "      \"status\": \"pending\"\n",
    "    },"
   ]
  },
  {
   "cell_type": "markdown",
   "metadata": {
    "collapsed": false
   },
   "source": []
  },
  {
   "cell_type": "markdown",
   "metadata": {
    "collapsed": false
   },
   "source": [
    "Get attributes of a specific model by custom ID:"
   ]
  },
  {
   "cell_type": "code",
   "execution_count": 33,
   "metadata": {
    "collapsed": false
   },
   "outputs": [
    {
     "name": "stdout",
     "output_type": "stream",
     "text": [
      "{\n",
      "  \"owner\": \"bfa0c14c-97ab-489d-93f6-4d45b9396076\",\n",
      "  \"base_model_name\": \"en-US_BroadbandModel\",\n",
      "  \"customization_id\": \"c72e276f-9262-4362-855a-89b8f21cda47\",\n",
      "  \"dialect\": \"en-US\",\n",
      "  \"versions\": [\n",
      "    \"en-US_BroadbandModel.v2020-01-16\"\n",
      "  ],\n",
      "  \"created\": \"2022-12-28T16:39:53.952Z\",\n",
      "  \"name\": \"add_words\",\n",
      "  \"description\": \"Trying out addinIntellijIdeaRulezzz \",\n",
      "  \"progress\": 0,\n",
      "  \"language\": \"en-US\",\n",
      "  \"updated\": \"2023-01-10T03:04:34.285Z\",\n",
      "  \"status\": \"ready\"\n",
      "}\n"
     ]
    }
   ],
   "source": [
    "model_id = \"c72e276f-9262-4362-855a-89b8f21cda47\"\n",
    "\n",
    "language_model = speech_to_text.get_language_model(model_id).get_result()\n",
    "print(json.dumps(language_model, indent=2))"
   ]
  },
  {
   "cell_type": "markdown",
   "metadata": {
    "collapsed": false
   },
   "source": [
    "## Train Language Model:"
   ]
  },
  {
   "cell_type": "markdown",
   "metadata": {
    "collapsed": false
   },
   "source": [
    "Add Custom Words:"
   ]
  },
  {
   "cell_type": "markdown",
   "metadata": {
    "collapsed": false
   },
   "source": [
    "Start with checking which custom words are already in the model, then add some more:"
   ]
  },
  {
   "cell_type": "code",
   "execution_count": 34,
   "metadata": {
    "collapsed": false
   },
   "outputs": [
    {
     "name": "stdout",
     "output_type": "stream",
     "text": [
      "{\n",
      "  \"words\": [\n",
      "    {\n",
      "      \"display_as\": \"Lionel\",\n",
      "      \"sounds_like\": [\n",
      "        \"leonel\"\n",
      "      ],\n",
      "      \"count\": 1,\n",
      "      \"source\": [\n",
      "        \"user\"\n",
      "      ],\n",
      "      \"word\": \"Lionel\"\n",
      "    },\n",
      "    {\n",
      "      \"display_as\": \"Messi\",\n",
      "      \"sounds_like\": [\n",
      "        \"Messy\",\n",
      "        \"massey\",\n",
      "        \"messy\"\n",
      "      ],\n",
      "      \"count\": 1,\n",
      "      \"source\": [\n",
      "        \"user\"\n",
      "      ],\n",
      "      \"word\": \"Messi\"\n",
      "    },\n",
      "    {\n",
      "      \"display_as\": \"Montiel's\",\n",
      "      \"sounds_like\": [\n",
      "        \"Montiel's\"\n",
      "      ],\n",
      "      \"count\": 1,\n",
      "      \"source\": [\n",
      "        \"corpus1\"\n",
      "      ],\n",
      "      \"word\": \"Montiel's\"\n",
      "    },\n",
      "    {\n",
      "      \"display_as\": \"handywoman\",\n",
      "      \"sounds_like\": [\n",
      "        \"handywoman\"\n",
      "      ],\n",
      "      \"count\": 1,\n",
      "      \"source\": [\n",
      "        \"corpus1\"\n",
      "      ],\n",
      "      \"word\": \"handywoman\"\n",
      "    },\n",
      "    {\n",
      "      \"display_as\": \"trying\",\n",
      "      \"sounds_like\": [\n",
      "        \"tryin\"\n",
      "      ],\n",
      "      \"count\": 1,\n",
      "      \"source\": [\n",
      "        \"user\"\n",
      "      ],\n",
      "      \"word\": \"trying\"\n",
      "    }\n",
      "  ]\n",
      "}\n",
      "{\n",
      "  \"words\": [\n",
      "    {\n",
      "      \"sounds_like\": [\n",
      "        \"leonel\"\n",
      "      ],\n",
      "      \"count\": 1,\n",
      "      \"source\": [\n",
      "        \"user\"\n",
      "      ],\n",
      "      \"word\": \"Lionel\"\n",
      "    },\n",
      "    {\n",
      "      \"display_as\": \"Messi\",\n",
      "      \"sounds_like\": [\n",
      "        \"Messy\",\n",
      "        \"massey\",\n",
      "        \"messy\"\n",
      "      ],\n",
      "      \"count\": 1,\n",
      "      \"source\": [\n",
      "        \"user\"\n",
      "      ],\n",
      "      \"word\": \"Messi\"\n",
      "    },\n",
      "    {\n",
      "      \"display_as\": \"Montiel's\",\n",
      "      \"sounds_like\": [\n",
      "        \"Montiel's\"\n",
      "      ],\n",
      "      \"count\": 1,\n",
      "      \"source\": [\n",
      "        \"corpus1\"\n",
      "      ],\n",
      "      \"word\": \"Montiel's\"\n",
      "    },\n",
      "    {\n",
      "      \"display_as\": \"handywoman\",\n",
      "      \"sounds_like\": [\n",
      "        \"handywoman\"\n",
      "      ],\n",
      "      \"count\": 1,\n",
      "      \"source\": [\n",
      "        \"corpus1\"\n",
      "      ],\n",
      "      \"word\": \"handywoman\"\n",
      "    },\n",
      "    {\n",
      "      \"sounds_like\": [\n",
      "        \"tryin\"\n",
      "      ],\n",
      "      \"count\": 1,\n",
      "      \"source\": [\n",
      "        \"user\"\n",
      "      ],\n",
      "      \"word\": \"trying\"\n",
      "    }\n",
      "  ]\n",
      "}\n"
     ]
    }
   ],
   "source": [
    "words = speech_to_text.list_words(model_id).get_result()\n",
    "print(json.dumps(words, indent=2))\n",
    "\n",
    "authenticator = IAMAuthenticator(apikey)\n",
    "speech_to_text = SpeechToTextV1(\n",
    "    authenticator=authenticator\n",
    ")\n",
    "\n",
    "speech_to_text.set_service_url(url)\n",
    "\n",
    "messi_word_obj = CustomWord(\n",
    "    word='Messi',\n",
    "    sounds_like=['messy', 'Messy', 'massey'],\n",
    "    display_as='Messi'\n",
    ")\n",
    "\n",
    "lionel_word_obj = CustomWord(\n",
    "    word='Lionel',\n",
    "    sounds_like=['leonel']\n",
    ")\n",
    "\n",
    "trying_word_obj = CustomWord(\n",
    "    word='trying',\n",
    "    sounds_like=['tryin']\n",
    ")\n",
    "\n",
    "speech_to_text.add_words(\n",
    "    model_id,\n",
    "    [messi_word_obj, lionel_word_obj, trying_word_obj]\n",
    ")\n",
    "# Poll for language model status.\n",
    "words = speech_to_text.list_words(model_id).get_result()\n",
    "print(json.dumps(words, indent=2))"
   ]
  },
  {
   "cell_type": "markdown",
   "metadata": {
    "collapsed": false
   },
   "source": [
    "Run training:"
   ]
  },
  {
   "cell_type": "code",
   "execution_count": null,
   "metadata": {
    "collapsed": false
   },
   "outputs": [],
   "source": [
    "speech_to_text.train_language_model(model_id, word_type_to_add=\"all\", strict=False)"
   ]
  },
  {
   "cell_type": "markdown",
   "metadata": {
    "collapsed": false
   },
   "source": [
    "## Run and Test Trained Model"
   ]
  },
  {
   "cell_type": "code",
   "execution_count": 41,
   "metadata": {
    "collapsed": false
   },
   "outputs": [],
   "source": [
    "with open(audio_file_path, 'rb') as f:\n",
    "    res_word_added = stt.recognize(audio=f, content_type='audio/mp3', language_customization_id=model_id).get_result()"
   ]
  },
  {
   "cell_type": "markdown",
   "metadata": {
    "collapsed": false
   },
   "source": [
    "Save output of new trained model and compare confidence levels with old models:"
   ]
  },
  {
   "cell_type": "code",
   "execution_count": 42,
   "metadata": {
    "collapsed": false
   },
   "outputs": [
    {
     "data": {
      "image/png": "[encoded data removed]",
      "text/plain": [
       "<Figure size 432x288 with 1 Axes>"
      ]
     },
     "metadata": {
      "needs_background": "light"
     },
     "output_type": "display_data"
    }
   ],
   "source": [
    "text_trained = res_word_added['results'][0]['alternatives'][0]['transcript']\n",
    "\n",
    "with open('output2.txt', 'w') as out:\n",
    "    out.writelines(text_trained)\n",
    "f.close()\n",
    "out.close()\n",
    "\n",
    "confidence_trained = res_word_added['results'][0]['alternatives'][0]['confidence']\n",
    "\n",
    "confidence_levels[\"trained\"] = confidence_trained\n",
    "\n",
    "if __name__ == '__main__':\n",
    "    # creating data on which bar chart will be plot\n",
    "    x = list(confidence_levels.keys())\n",
    "    y = list(confidence_levels.values())\n",
    "\n",
    "    # making the bar chart on the data\n",
    "    plt.bar(x, y, width= 0.5, align=\"center\")\n",
    "\n",
    "    # calling the function to add value labels\n",
    "    addlabels(x, y)\n",
    "\n",
    "    # giving title to the plot\n",
    "    plt.title(\"Confidence Level by Model\")\n",
    "\n",
    "    # giving X and Y labels\n",
    "    plt.xlabel(\"Model\")\n",
    "    plt.ylabel(\"Confidence Level\")\n",
    "\n",
    "    # visualizing the plot\n",
    "    plt.show()"
   ]
  },
  {
   "cell_type": "markdown",
   "metadata": {
    "collapsed": false
   },
   "source": [
    "Test effects of Custom Words"
   ]
  },
  {
   "cell_type": "code",
   "execution_count": 44,
   "metadata": {
    "collapsed": false
   },
   "outputs": [],
   "source": [
    "new_file_path = \"/Users/nikhilgopal/IBM Trainings/Watson STT Training/messy-messi.mp3\"\n",
    "\n",
    "with open(new_file_path, 'rb') as f:\n",
    "    res_word_added = stt.recognize(audio=f, content_type='audio/mp3', language_customization_id=model_id).get_result()"
   ]
  },
  {
   "cell_type": "code",
   "execution_count": 45,
   "metadata": {
    "collapsed": false
   },
   "outputs": [
    {
     "name": "stdout",
     "output_type": "stream",
     "text": [
      "the room is very Messi the room is extremely Messi Lionel Messi is the best football player in the world \n"
     ]
    }
   ],
   "source": [
    "text_test = res_word_added['results'][0]['alternatives'][0]['transcript']\n",
    "\n",
    "print(text_test)"
   ]
  },
  {
   "cell_type": "markdown",
   "metadata": {
    "collapsed": false
   },
   "source": [
    "The model transcribes every word as Messi. Lets see if adding a Corpus can help the model distinguish between sports related and non-sports related and non sports related situations."
   ]
  },
  {
   "cell_type": "markdown",
   "metadata": {
    "collapsed": false
   },
   "source": [
    "## Add Corpus"
   ]
  },
  {
   "cell_type": "markdown",
   "metadata": {
    "collapsed": false
   },
   "source": [
    "Check if there are any corpora already:"
   ]
  },
  {
   "cell_type": "code",
   "execution_count": 46,
   "metadata": {
    "collapsed": false
   },
   "outputs": [
    {
     "name": "stdout",
     "output_type": "stream",
     "text": [
      "{\n",
      "  \"corpora\": [\n",
      "    {\n",
      "      \"out_of_vocabulary_words\": 2,\n",
      "      \"total_words\": 528,\n",
      "      \"name\": \"corpus1\",\n",
      "      \"status\": \"analyzed\"\n",
      "    }\n",
      "  ]\n",
      "}\n"
     ]
    }
   ],
   "source": [
    "corpora = speech_to_text.list_corpora(model_id).get_result()\n",
    "print(json.dumps(corpora, indent=2))"
   ]
  },
  {
   "cell_type": "code",
   "execution_count": null,
   "metadata": {
    "collapsed": false
   },
   "outputs": [],
   "source": [
    "#pass path to corpus file\n",
    "\n",
    "with open(\"/Users/nikhilgopal/IBM Trainings/Watson STT Training/samplecorpus.txt\",\n",
    "          'rb') as corpus_file:\n",
    "    speech_to_text.add_corpus(\n",
    "        model_id,\n",
    "        'corpus1',\n",
    "        corpus_file\n",
    "    )\n",
    "\n",
    "# Poll for corpus status."
   ]
  },
  {
   "cell_type": "code",
   "execution_count": 60,
   "metadata": {
    "collapsed": false
   },
   "outputs": [
    {
     "name": "stdout",
     "output_type": "stream",
     "text": [
      "{\n",
      "  \"corpora\": [\n",
      "    {\n",
      "      \"out_of_vocabulary_words\": 2,\n",
      "      \"total_words\": 528,\n",
      "      \"name\": \"corpus1\",\n",
      "      \"status\": \"analyzed\"\n",
      "    }\n",
      "  ]\n",
      "}\n"
     ]
    }
   ],
   "source": [
    "#check if corpus added successfully\n",
    "\n",
    "corpora = speech_to_text.list_corpora(model_id).get_result()\n",
    "print(json.dumps(corpora, indent=2))"
   ]
  },
  {
   "cell_type": "markdown",
   "metadata": {
    "collapsed": false
   },
   "source": [
    "Check performance of model after adding Corpus:"
   ]
  },
  {
   "cell_type": "code",
   "execution_count": 61,
   "metadata": {
    "collapsed": false
   },
   "outputs": [
    {
     "name": "stdout",
     "output_type": "stream",
     "text": [
      "the room is very Messi the room is extremely Messi Lionel Messi is the best football player in the world \n"
     ]
    }
   ],
   "source": [
    "with open(new_file_path, 'rb') as f:\n",
    "    res_word_added = stt.recognize(audio=f, content_type='audio/mp3', language_customization_id=model_id).get_result()\n",
    "\n",
    "text_test2 = res_word_added['results'][0]['alternatives'][0]['transcript']\n",
    "\n",
    "print(text_test2)"
   ]
  },
  {
   "cell_type": "markdown",
   "metadata": {
    "collapsed": false
   },
   "source": [
    "## Watson Translation"
   ]
  },
  {
   "cell_type": "markdown",
   "metadata": {
    "collapsed": false
   },
   "source": [
    "List supported languages"
   ]
  },
  {
   "cell_type": "code",
   "execution_count": 62,
   "metadata": {
    "collapsed": false
   },
   "outputs": [],
   "source": [
    "translate_api_key = config[\"translate_api_key\"]\n",
    "translate_url = config[\"translate_url\"]\n",
    "\n",
    "authenticator = IAMAuthenticator(translate_api_key)\n",
    "language_translator = LanguageTranslatorV3(\n",
    "    version='2018-05-01',\n",
    "    authenticator=authenticator\n",
    ")\n",
    "\n",
    "language_translator.set_service_url(translate_url)\n",
    "\n",
    "languages = language_translator.list_languages().get_result()\n",
    "#print(json.dumps(languages, indent=2))"
   ]
  },
  {
   "cell_type": "markdown",
   "metadata": {
    "collapsed": false
   },
   "source": [
    "## Identify Text Language"
   ]
  },
  {
   "cell_type": "code",
   "execution_count": 64,
   "metadata": {
    "collapsed": false
   },
   "outputs": [
    {
     "name": "stdout",
     "output_type": "stream",
     "text": [
      "{\n",
      "  \"languages\": [\n",
      "    {\n",
      "      \"language\": \"en\",\n",
      "      \"confidence\": 0.999999999983779\n",
      "    },\n",
      "    {\n",
      "      \"language\": \"nn\",\n",
      "      \"confidence\": 5.205084059226688e-12\n",
      "    },\n",
      "    {\n",
      "      \"language\": \"tr\",\n",
      "      \"confidence\": 2.0377123947884035e-12\n",
      "    },\n",
      "    {\n",
      "      \"language\": \"tl\",\n",
      "      \"confidence\": 1.995105145518952e-12\n",
      "    },\n",
      "    {\n",
      "      \"language\": \"nl\",\n",
      "      \"confidence\": 1.4529303286820957e-12\n",
      "    },\n",
      "    {\n",
      "      \"language\": \"vi\",\n",
      "      \"confidence\": 1.4519940530481691e-12\n",
      "    },\n",
      "    {\n",
      "      \"language\": \"de\",\n",
      "      \"confidence\": 1.2823257547489229e-12\n",
      "    },\n",
      "    {\n",
      "      \"language\": \"da\",\n",
      "      \"confidence\": 8.721800702126013e-13\n",
      "    },\n",
      "    {\n",
      "      \"language\": \"af\",\n",
      "      \"confidence\": 7.587439877135221e-13\n",
      "    },\n",
      "    {\n",
      "      \"language\": \"ku\",\n",
      "      \"confidence\": 2.2913998442867956e-13\n",
      "    },\n",
      "    {\n",
      "      \"language\": \"nb\",\n",
      "      \"confidence\": 2.0782208303034792e-13\n",
      "    },\n",
      "    {\n",
      "      \"language\": \"es\",\n",
      "      \"confidence\": 1.821021283721029e-13\n",
      "    },\n",
      "    {\n",
      "      \"language\": \"ms\",\n",
      "      \"confidence\": 1.3013896502491997e-13\n",
      "    },\n",
      "    {\n",
      "      \"language\": \"fr\",\n",
      "      \"confidence\": 1.0670265199566752e-13\n",
      "    },\n",
      "    {\n",
      "      \"language\": \"sv\",\n",
      "      \"confidence\": 7.16234490568824e-14\n",
      "    },\n",
      "    {\n",
      "      \"language\": \"ht\",\n",
      "      \"confidence\": 6.20015820314456e-14\n",
      "    },\n",
      "    {\n",
      "      \"language\": \"mt\",\n",
      "      \"confidence\": 5.992351213106732e-14\n",
      "    },\n",
      "    {\n",
      "      \"language\": \"cs\",\n",
      "      \"confidence\": 2.7243560180003025e-14\n",
      "    },\n",
      "    {\n",
      "      \"language\": \"it\",\n",
      "      \"confidence\": 2.3478306758178337e-14\n",
      "    },\n",
      "    {\n",
      "      \"language\": \"et\",\n",
      "      \"confidence\": 1.3718248828564024e-14\n",
      "    },\n",
      "    {\n",
      "      \"language\": \"sq\",\n",
      "      \"confidence\": 1.2402888800313151e-14\n",
      "    },\n",
      "    {\n",
      "      \"language\": \"ro\",\n",
      "      \"confidence\": 1.1261935736672415e-14\n",
      "    },\n",
      "    {\n",
      "      \"language\": \"hu\",\n",
      "      \"confidence\": 4.88116665454589e-15\n",
      "    },\n",
      "    {\n",
      "      \"language\": \"ca\",\n",
      "      \"confidence\": 4.494262228979742e-15\n",
      "    },\n",
      "    {\n",
      "      \"language\": \"pt\",\n",
      "      \"confidence\": 2.9822016905045175e-15\n",
      "    },\n",
      "    {\n",
      "      \"language\": \"sk\",\n",
      "      \"confidence\": 2.9797746516755215e-15\n",
      "    },\n",
      "    {\n",
      "      \"language\": \"fi\",\n",
      "      \"confidence\": 2.9057197915298757e-15\n",
      "    },\n",
      "    {\n",
      "      \"language\": \"so\",\n",
      "      \"confidence\": 2.0520670612217515e-15\n",
      "    },\n",
      "    {\n",
      "      \"language\": \"ja\",\n",
      "      \"confidence\": 8.970665982814521e-16\n",
      "    },\n",
      "    {\n",
      "      \"language\": \"az\",\n",
      "      \"confidence\": 8.966687143040534e-16\n",
      "    },\n",
      "    {\n",
      "      \"language\": \"hr\",\n",
      "      \"confidence\": 8.581262966557105e-16\n",
      "    },\n",
      "    {\n",
      "      \"language\": \"is\",\n",
      "      \"confidence\": 6.31924634060837e-16\n",
      "    },\n",
      "    {\n",
      "      \"language\": \"lt\",\n",
      "      \"confidence\": 6.198650395101557e-16\n",
      "    },\n",
      "    {\n",
      "      \"language\": \"lv\",\n",
      "      \"confidence\": 5.410543463883793e-16\n",
      "    },\n",
      "    {\n",
      "      \"language\": \"cy\",\n",
      "      \"confidence\": 5.248654983183351e-16\n",
      "    },\n",
      "    {\n",
      "      \"language\": \"ko\",\n",
      "      \"confidence\": 5.085963701117192e-16\n",
      "    },\n",
      "    {\n",
      "      \"language\": \"sl\",\n",
      "      \"confidence\": 4.1137574945464203e-16\n",
      "    },\n",
      "    {\n",
      "      \"language\": \"pl\",\n",
      "      \"confidence\": 4.050396038025295e-16\n",
      "    },\n",
      "    {\n",
      "      \"language\": \"eu\",\n",
      "      \"confidence\": 2.777259012399554e-16\n",
      "    },\n",
      "    {\n",
      "      \"language\": \"ga\",\n",
      "      \"confidence\": 2.1596756816470315e-16\n",
      "    },\n",
      "    {\n",
      "      \"language\": \"eo\",\n",
      "      \"confidence\": 2.0096580560045378e-16\n",
      "    },\n",
      "    {\n",
      "      \"language\": \"el\",\n",
      "      \"confidence\": 7.797080707008497e-17\n",
      "    },\n",
      "    {\n",
      "      \"language\": \"th\",\n",
      "      \"confidence\": 3.325022046295735e-17\n",
      "    },\n",
      "    {\n",
      "      \"language\": \"zh\",\n",
      "      \"confidence\": 3.306948477481636e-17\n",
      "    },\n",
      "    {\n",
      "      \"language\": \"zh-TW\",\n",
      "      \"confidence\": 3.115600910829709e-17\n",
      "    },\n",
      "    {\n",
      "      \"language\": \"hi\",\n",
      "      \"confidence\": 8.931800897980414e-18\n",
      "    },\n",
      "    {\n",
      "      \"language\": \"ar\",\n",
      "      \"confidence\": 1.7780690344255185e-18\n",
      "    },\n",
      "    {\n",
      "      \"language\": \"ru\",\n",
      "      \"confidence\": 1.676687061614231e-18\n",
      "    },\n",
      "    {\n",
      "      \"language\": \"mn\",\n",
      "      \"confidence\": 1.073830111661764e-18\n",
      "    },\n",
      "    {\n",
      "      \"language\": \"he\",\n",
      "      \"confidence\": 9.470203910211584e-19\n",
      "    },\n",
      "    {\n",
      "      \"language\": \"ur\",\n",
      "      \"confidence\": 6.095914211309237e-19\n",
      "    },\n",
      "    {\n",
      "      \"language\": \"my\",\n",
      "      \"confidence\": 5.525344896600658e-19\n",
      "    },\n",
      "    {\n",
      "      \"language\": \"mr\",\n",
      "      \"confidence\": 3.048639350570273e-19\n",
      "    },\n",
      "    {\n",
      "      \"language\": \"uk\",\n",
      "      \"confidence\": 2.529210354455543e-19\n",
      "    },\n",
      "    {\n",
      "      \"language\": \"lo\",\n",
      "      \"confidence\": 2.459216617465464e-19\n",
      "    },\n",
      "    {\n",
      "      \"language\": \"ka\",\n",
      "      \"confidence\": 1.909009509685216e-19\n",
      "    },\n",
      "    {\n",
      "      \"language\": \"sr\",\n",
      "      \"confidence\": 1.8520649439821095e-19\n",
      "    },\n",
      "    {\n",
      "      \"language\": \"km\",\n",
      "      \"confidence\": 1.2896208402159602e-19\n",
      "    },\n",
      "    {\n",
      "      \"language\": \"ne\",\n",
      "      \"confidence\": 9.211279433790811e-20\n",
      "    },\n",
      "    {\n",
      "      \"language\": \"pa\",\n",
      "      \"confidence\": 8.448563775453104e-20\n",
      "    },\n",
      "    {\n",
      "      \"language\": \"bn\",\n",
      "      \"confidence\": 7.570302085992943e-20\n",
      "    },\n",
      "    {\n",
      "      \"language\": \"ky\",\n",
      "      \"confidence\": 6.868065732356594e-20\n",
      "    },\n",
      "    {\n",
      "      \"language\": \"be\",\n",
      "      \"confidence\": 6.793994937676317e-20\n",
      "    },\n",
      "    {\n",
      "      \"language\": \"bg\",\n",
      "      \"confidence\": 6.109030892669676e-20\n",
      "    },\n",
      "    {\n",
      "      \"language\": \"ta\",\n",
      "      \"confidence\": 6.064900593247758e-20\n",
      "    },\n",
      "    {\n",
      "      \"language\": \"kk\",\n",
      "      \"confidence\": 6.055944439737917e-20\n",
      "    },\n",
      "    {\n",
      "      \"language\": \"ml\",\n",
      "      \"confidence\": 5.887847920927901e-20\n",
      "    },\n",
      "    {\n",
      "      \"language\": \"ps\",\n",
      "      \"confidence\": 4.9559388935298433e-20\n",
      "    },\n",
      "    {\n",
      "      \"language\": \"te\",\n",
      "      \"confidence\": 3.909932665375015e-20\n",
      "    },\n",
      "    {\n",
      "      \"language\": \"hy\",\n",
      "      \"confidence\": 3.562987128731175e-20\n",
      "    },\n",
      "    {\n",
      "      \"language\": \"ba\",\n",
      "      \"confidence\": 2.941990123077224e-20\n",
      "    },\n",
      "    {\n",
      "      \"language\": \"fa\",\n",
      "      \"confidence\": 2.852190727456381e-20\n",
      "    },\n",
      "    {\n",
      "      \"language\": \"pa-PK\",\n",
      "      \"confidence\": 2.1707259394152715e-20\n",
      "    },\n",
      "    {\n",
      "      \"language\": \"cv\",\n",
      "      \"confidence\": 1.7933799913344533e-20\n",
      "    },\n",
      "    {\n",
      "      \"language\": \"gu\",\n",
      "      \"confidence\": 1.6225920100138852e-20\n",
      "    },\n",
      "    {\n",
      "      \"language\": \"si\",\n",
      "      \"confidence\": 1.533190439927532e-20\n",
      "    }\n",
      "  ]\n",
      "}\n"
     ]
    }
   ],
   "source": [
    "language = language_translator.identify(\n",
    "    text_trained).get_result()\n",
    "print(json.dumps(language, indent=2))"
   ]
  },
  {
   "cell_type": "markdown",
   "metadata": {
    "collapsed": false
   },
   "source": [
    "## Translate the text"
   ]
  },
  {
   "cell_type": "code",
   "execution_count": 65,
   "metadata": {
    "collapsed": false
   },
   "outputs": [
    {
     "name": "stdout",
     "output_type": "stream",
     "text": [
      "{\n",
      "  \"translations\": [\n",
      "    {\n",
      "      \"translation\": \"el mundo vienen a unirse a un número récord de espectadores y tratando de que el argentino Lionel Messi aquí es una mirada por los números quince puntos cuatro millones de U. S. hogares ver la final de la Copa del Mundo de ayer y todo el tiempo U. S. récord de audiencia y juego sin duda entregado en el drama por sólo la tercera vez en la historia el título de la Copa del Mundo fue decidido por un tiro penal de treinta y seis años amigos que 'es cuánto tiempo Argentina había esperado a una Copa del Mundo ganar treinta y cinco años Lionel Messi ni siquiera había nacido todavía la última vez que su país marcó dos goles y el primero de cinco tiros fuera de penales para ganar a su equipo el largo ansiado campeonato de tiro corona en una carrera legendaria con setecientos noventa y tres goles cuarenta dos clubes un internacional y un récord de siete Malone ya está ahí a su nombre la Copa del Mundo gana hace a Messi el jugador de fútbol más condecorado en la historia junto con El jugador brasileño Dani Alves sólo está detrás de Cristiano Ronaldo en todos los goles de tiempo, pero él es trescientos cincuenta asistencias a su nombre que es cien dieciséis más que Ronaldo y eso es a pesar de jugar cien cuarenta y tres juegos menos \"\n",
      "    }\n",
      "  ],\n",
      "  \"word_count\": 212,\n",
      "  \"character_count\": 1133\n",
      "}\n"
     ]
    }
   ],
   "source": [
    "translation = language_translator.translate(\n",
    "    text=text_trained,\n",
    "    model_id='en-es').get_result()\n",
    "\n",
    "print(json.dumps(translation, indent=2, ensure_ascii=False))"
   ]
  },
  {
   "cell_type": "markdown",
   "metadata": {
    "collapsed": false
   },
   "source": [
    "Save a text file of the translation:"
   ]
  },
  {
   "cell_type": "code",
   "execution_count": 125,
   "metadata": {
    "collapsed": false
   },
   "outputs": [],
   "source": [
    "text_translated = translation['translations'][0]['translation']\n",
    "\n",
    "with open(\"output_translated.txt\", 'w') as f:\n",
    "    f.writelines(text_translated)\n",
    "f.close()"
   ]
  }
 ],
 "metadata": {
  "kernelspec": {
   "display_name": "base",
   "language": "python",
   "name": "python3"
  },
  "language_info": {
   "codemirror_mode": {
    "name": "ipython",
    "version": 3
   },
   "file_extension": ".py",
   "mimetype": "text/x-python",
   "name": "python",
   "nbconvert_exporter": "python",
   "pygments_lexer": "ipython3",
   "version": "3.9.12 (main, Apr  5 2022, 01:53:17) \n[Clang 12.0.0 ]"
  },
  "vscode": {
   "interpreter": {
    "hash": "7524cafb56e95032b696700f770096ac4f40a4dfdeebb4d85f90fe694c0b1b7e"
   }
  }
 },
 "nbformat": 4,
 "nbformat_minor": 5
}
